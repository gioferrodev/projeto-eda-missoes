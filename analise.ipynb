{
 "cells": [
  {
   "cell_type": "markdown",
   "metadata": {},
   "source": [
    "# Aprendendo data science\n",
    "\n",
    "## Análise exploratória dos dados de missões espaciais de 1957 até agosto/2022\n",
    "\n",
    "Sou um fã de astronomia no geral e estou aprendendo ciêcia de dados. Então porque não juntar os dois mundos e aprender coisas legais, né!.\n",
    "O dataset foi retirado do [MavenAnalytics]('https://www.mavenanalytics.io/data-playground')."
   ]
  },
  {
   "cell_type": "code",
   "execution_count": 2,
   "metadata": {},
   "outputs": [],
   "source": [
    "# importando as bibliotecas\n",
    "import pandas as pd\n",
    "import numpy as np\n",
    "import matplotlib.pyplot as plt"
   ]
  },
  {
   "cell_type": "code",
   "execution_count": 3,
   "metadata": {},
   "outputs": [],
   "source": [
    "# importando os dados\n",
    "# corrigindo o encoding dos dados\n",
    "dados_missoes = pd.read_csv('./space_missions.csv', encoding='latin1')"
   ]
  },
  {
   "cell_type": "code",
   "execution_count": 4,
   "metadata": {},
   "outputs": [
    {
     "name": "stdout",
     "output_type": "stream",
     "text": [
      "o dataset tem 4630 linhas e 9 colunas.\n"
     ]
    }
   ],
   "source": [
    "# shape dos dados\n",
    "print(f\"o dataset tem {dados_missoes.shape[0]} linhas e {dados_missoes.shape[1]} colunas.\")"
   ]
  },
  {
   "cell_type": "code",
   "execution_count": 19,
   "metadata": {},
   "outputs": [
    {
     "data": {
      "text/plain": [
       "Company                  object\n",
       "Location                 object\n",
       "Date             datetime64[ns]\n",
       "Time                     object\n",
       "Rocket                   object\n",
       "Mission                  object\n",
       "RocketStatus             object\n",
       "Price                    object\n",
       "MissionStatus            object\n",
       "dtype: object"
      ]
     },
     "execution_count": 19,
     "metadata": {},
     "output_type": "execute_result"
    }
   ],
   "source": [
    "# Convertendo a coluna 'price' em float\n",
    "dados_missoes['Date'] = pd.to_datetime(dados_missoes['Date'])\n",
    "\n"
   ]
  }
 ],
 "metadata": {
  "kernelspec": {
   "display_name": "Python 3.10.7 64-bit",
   "language": "python",
   "name": "python3"
  },
  "language_info": {
   "codemirror_mode": {
    "name": "ipython",
    "version": 3
   },
   "file_extension": ".py",
   "mimetype": "text/x-python",
   "name": "python",
   "nbconvert_exporter": "python",
   "pygments_lexer": "ipython3",
   "version": "3.10.7"
  },
  "orig_nbformat": 4,
  "vscode": {
   "interpreter": {
    "hash": "650612b72461e7c5146c3d42cdb3c38eddfaae87360e368e7b4bd3d042dfdcd3"
   }
  }
 },
 "nbformat": 4,
 "nbformat_minor": 2
}
