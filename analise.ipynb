{
 "cells": [
  {
   "cell_type": "markdown",
   "metadata": {},
   "source": [
    "# Aprendendo data science\n",
    "\n",
    "## Análise exploratória dos dados de missões espaciais de 1957 até agosto/2022\n",
    "\n",
    "Sou um fã de astronomia no geral e estou aprendendo ciêcia de dados. Então porque não juntar os dois mundos e aprender coisas legais, né!.\n",
    "O dataset foi retirado do [MavenAnalytics]('https://www.mavenanalytics.io/data-playground')."
   ]
  },
  {
   "cell_type": "code",
   "execution_count": 1,
   "metadata": {},
   "outputs": [],
   "source": [
    "# importando as bibliotecas\n",
    "import pandas as pd\n",
    "import numpy as np\n",
    "import matplotlib.pyplot as plt"
   ]
  },
  {
   "cell_type": "code",
   "execution_count": 2,
   "metadata": {},
   "outputs": [],
   "source": [
    "# importando os dados\n",
    "# corrigindo o encoding dos dados\n",
    "dados_missoes = pd.read_csv('./space_missions.csv', encoding='latin1')"
   ]
  },
  {
   "cell_type": "code",
   "execution_count": 3,
   "metadata": {},
   "outputs": [
    {
     "name": "stdout",
     "output_type": "stream",
     "text": [
      "o dataset tem 4630 linhas e 9 colunas.\n"
     ]
    }
   ],
   "source": [
    "# shape dos dados\n",
    "print(f\"o dataset tem {dados_missoes.shape[0]} linhas e {dados_missoes.shape[1]} colunas.\")"
   ]
  },
  {
   "cell_type": "code",
   "execution_count": 9,
   "metadata": {},
   "outputs": [
    {
     "data": {
      "text/html": [
       "<div>\n",
       "<style scoped>\n",
       "    .dataframe tbody tr th:only-of-type {\n",
       "        vertical-align: middle;\n",
       "    }\n",
       "\n",
       "    .dataframe tbody tr th {\n",
       "        vertical-align: top;\n",
       "    }\n",
       "\n",
       "    .dataframe thead th {\n",
       "        text-align: right;\n",
       "    }\n",
       "</style>\n",
       "<table border=\"1\" class=\"dataframe\">\n",
       "  <thead>\n",
       "    <tr style=\"text-align: right;\">\n",
       "      <th></th>\n",
       "      <th>Company</th>\n",
       "      <th>Location</th>\n",
       "      <th>Date</th>\n",
       "      <th>Time</th>\n",
       "      <th>Rocket</th>\n",
       "      <th>Mission</th>\n",
       "      <th>RocketStatus</th>\n",
       "      <th>Price</th>\n",
       "      <th>MissionStatus</th>\n",
       "    </tr>\n",
       "  </thead>\n",
       "  <tbody>\n",
       "    <tr>\n",
       "      <th>664</th>\n",
       "      <td>Martin Marietta</td>\n",
       "      <td>SLC-41, Cape Canaveral AFS, Florida, USA</td>\n",
       "      <td>1968-06-13</td>\n",
       "      <td>14:03:00</td>\n",
       "      <td>Titan IIIC</td>\n",
       "      <td>OPS 9341-9348</td>\n",
       "      <td>Retired</td>\n",
       "      <td>NaN</td>\n",
       "      <td>Success</td>\n",
       "    </tr>\n",
       "    <tr>\n",
       "      <th>1829</th>\n",
       "      <td>RVSN USSR</td>\n",
       "      <td>Site 41/1, Plesetsk Cosmodrome, Russia</td>\n",
       "      <td>1979-10-20</td>\n",
       "      <td>07:03:00</td>\n",
       "      <td>Molniya-M /Block ML</td>\n",
       "      <td>Molniya-1 nâ Â­82</td>\n",
       "      <td>Retired</td>\n",
       "      <td>NaN</td>\n",
       "      <td>Success</td>\n",
       "    </tr>\n",
       "    <tr>\n",
       "      <th>2450</th>\n",
       "      <td>RVSN USSR</td>\n",
       "      <td>Site 32/2, Plesetsk Cosmodrome, Russia</td>\n",
       "      <td>1989-08-28</td>\n",
       "      <td>00:14:00</td>\n",
       "      <td>Tsyklon-3</td>\n",
       "      <td>Cosmos 2037</td>\n",
       "      <td>Retired</td>\n",
       "      <td>NaN</td>\n",
       "      <td>Success</td>\n",
       "    </tr>\n",
       "    <tr>\n",
       "      <th>2591</th>\n",
       "      <td>NASA</td>\n",
       "      <td>LC-39A, Kennedy Space Center, Florida, USA</td>\n",
       "      <td>1991-09-12</td>\n",
       "      <td>23:11:00</td>\n",
       "      <td>Space Shuttle Discovery</td>\n",
       "      <td>STS-48</td>\n",
       "      <td>Retired</td>\n",
       "      <td>450.0</td>\n",
       "      <td>Success</td>\n",
       "    </tr>\n",
       "    <tr>\n",
       "      <th>2330</th>\n",
       "      <td>RVSN USSR</td>\n",
       "      <td>Site 132/1, Plesetsk Cosmodrome, Russia</td>\n",
       "      <td>1987-06-23</td>\n",
       "      <td>07:37:00</td>\n",
       "      <td>Cosmos-3M (11K65M)</td>\n",
       "      <td>Cosmos 1861</td>\n",
       "      <td>Retired</td>\n",
       "      <td>NaN</td>\n",
       "      <td>Success</td>\n",
       "    </tr>\n",
       "    <tr>\n",
       "      <th>1436</th>\n",
       "      <td>CNES</td>\n",
       "      <td>ELD, Guiana Space Centre, French Guiana, France</td>\n",
       "      <td>1975-09-27</td>\n",
       "      <td>14:00:00</td>\n",
       "      <td>Diamant BP4</td>\n",
       "      <td>Aura</td>\n",
       "      <td>Retired</td>\n",
       "      <td>NaN</td>\n",
       "      <td>Success</td>\n",
       "    </tr>\n",
       "  </tbody>\n",
       "</table>\n",
       "</div>"
      ],
      "text/plain": [
       "              Company                                         Location  \\\n",
       "664   Martin Marietta         SLC-41, Cape Canaveral AFS, Florida, USA   \n",
       "1829        RVSN USSR           Site 41/1, Plesetsk Cosmodrome, Russia   \n",
       "2450        RVSN USSR           Site 32/2, Plesetsk Cosmodrome, Russia   \n",
       "2591             NASA       LC-39A, Kennedy Space Center, Florida, USA   \n",
       "2330        RVSN USSR          Site 132/1, Plesetsk Cosmodrome, Russia   \n",
       "1436             CNES  ELD, Guiana Space Centre, French Guiana, France   \n",
       "\n",
       "           Date      Time                   Rocket             Mission  \\\n",
       "664  1968-06-13  14:03:00               Titan IIIC       OPS 9341-9348   \n",
       "1829 1979-10-20  07:03:00      Molniya-M /Block ML  Molniya-1 nâ Â­82   \n",
       "2450 1989-08-28  00:14:00                Tsyklon-3         Cosmos 2037   \n",
       "2591 1991-09-12  23:11:00  Space Shuttle Discovery              STS-48   \n",
       "2330 1987-06-23  07:37:00       Cosmos-3M (11K65M)         Cosmos 1861   \n",
       "1436 1975-09-27  14:00:00              Diamant BP4                Aura   \n",
       "\n",
       "     RocketStatus  Price MissionStatus  \n",
       "664       Retired    NaN       Success  \n",
       "1829      Retired    NaN       Success  \n",
       "2450      Retired    NaN       Success  \n",
       "2591      Retired  450.0       Success  \n",
       "2330      Retired    NaN       Success  \n",
       "1436      Retired    NaN       Success  "
      ]
     },
     "execution_count": 9,
     "metadata": {},
     "output_type": "execute_result"
    }
   ],
   "source": [
    "# alterado o tipo da coluna 'Price'\n",
    "dados_missoes['Price'] = pd.to_numeric(dados_missoes['Price'], errors='coerce')\n"
   ]
  }
 ],
 "metadata": {
  "kernelspec": {
   "display_name": "Python 3.10.7 64-bit",
   "language": "python",
   "name": "python3"
  },
  "language_info": {
   "codemirror_mode": {
    "name": "ipython",
    "version": 3
   },
   "file_extension": ".py",
   "mimetype": "text/x-python",
   "name": "python",
   "nbconvert_exporter": "python",
   "pygments_lexer": "ipython3",
   "version": "3.10.7"
  },
  "orig_nbformat": 4,
  "vscode": {
   "interpreter": {
    "hash": "650612b72461e7c5146c3d42cdb3c38eddfaae87360e368e7b4bd3d042dfdcd3"
   }
  }
 },
 "nbformat": 4,
 "nbformat_minor": 2
}
