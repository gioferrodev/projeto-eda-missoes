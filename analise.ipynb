{
 "cells": [
  {
   "cell_type": "markdown",
   "metadata": {},
   "source": [
    "# Aprendendo data science\n",
    "\n",
    "## Análise exploratória dos dados de missões espaciais de 1957 até agosto/2022\n",
    "\n",
    "Sou um fã de astronomia no geral e estou aprendendo ciêcia de dados. Então porque não juntar os dois mundos e aprender coisas legais, né!.\n",
    "O dataset foi retirado do [MavenAnalytics]('https://www.mavenanalytics.io/data-playground')."
   ]
  },
  {
   "cell_type": "code",
   "execution_count": 19,
   "metadata": {},
   "outputs": [],
   "source": [
    "# importando as bibliotecas\n",
    "import pandas as pd\n",
    "import numpy as np\n",
    "import matplotlib.pyplot as plt"
   ]
  },
  {
   "cell_type": "code",
   "execution_count": 20,
   "metadata": {},
   "outputs": [],
   "source": [
    "# importando os dados\n",
    "# corrigindo o encoding dos dados\n",
    "dados_missoes = pd.read_csv('./space_missions.csv', encoding='latin1')"
   ]
  },
  {
   "cell_type": "code",
   "execution_count": 21,
   "metadata": {},
   "outputs": [
    {
     "name": "stdout",
     "output_type": "stream",
     "text": [
      "o dataset tem 4630 linhas e 9 colunas.\n"
     ]
    }
   ],
   "source": [
    "# shape dos dados\n",
    "print(f\"o dataset tem {dados_missoes.shape[0]} linhas e {dados_missoes.shape[1]} colunas.\")"
   ]
  },
  {
   "cell_type": "code",
   "execution_count": 22,
   "metadata": {},
   "outputs": [
    {
     "data": {
      "text/plain": [
       "Company             0\n",
       "Location            0\n",
       "Date                0\n",
       "Time              127\n",
       "Rocket              0\n",
       "Mission             0\n",
       "RocketStatus        0\n",
       "Price            3365\n",
       "MissionStatus       0\n",
       "dtype: int64"
      ]
     },
     "execution_count": 22,
     "metadata": {},
     "output_type": "execute_result"
    }
   ],
   "source": [
    "# Descrição dos dados nulos\n",
    "dados_missoes.isnull().sum()"
   ]
  },
  {
   "cell_type": "code",
   "execution_count": 24,
   "metadata": {},
   "outputs": [
    {
     "data": {
      "text/html": [
       "<div>\n",
       "<style scoped>\n",
       "    .dataframe tbody tr th:only-of-type {\n",
       "        vertical-align: middle;\n",
       "    }\n",
       "\n",
       "    .dataframe tbody tr th {\n",
       "        vertical-align: top;\n",
       "    }\n",
       "\n",
       "    .dataframe thead th {\n",
       "        text-align: right;\n",
       "    }\n",
       "</style>\n",
       "<table border=\"1\" class=\"dataframe\">\n",
       "  <thead>\n",
       "    <tr style=\"text-align: right;\">\n",
       "      <th></th>\n",
       "      <th>Company</th>\n",
       "      <th>Location</th>\n",
       "      <th>Date</th>\n",
       "      <th>Time</th>\n",
       "      <th>Rocket</th>\n",
       "      <th>Mission</th>\n",
       "      <th>RocketStatus</th>\n",
       "      <th>Price</th>\n",
       "      <th>MissionStatus</th>\n",
       "    </tr>\n",
       "  </thead>\n",
       "  <tbody>\n",
       "    <tr>\n",
       "      <th>count</th>\n",
       "      <td>4630</td>\n",
       "      <td>4630</td>\n",
       "      <td>4630</td>\n",
       "      <td>4503</td>\n",
       "      <td>4630</td>\n",
       "      <td>4630</td>\n",
       "      <td>4630</td>\n",
       "      <td>1265</td>\n",
       "      <td>4630</td>\n",
       "    </tr>\n",
       "    <tr>\n",
       "      <th>unique</th>\n",
       "      <td>62</td>\n",
       "      <td>158</td>\n",
       "      <td>4180</td>\n",
       "      <td>1300</td>\n",
       "      <td>370</td>\n",
       "      <td>4556</td>\n",
       "      <td>2</td>\n",
       "      <td>65</td>\n",
       "      <td>4</td>\n",
       "    </tr>\n",
       "    <tr>\n",
       "      <th>top</th>\n",
       "      <td>RVSN USSR</td>\n",
       "      <td>Site 31/6, Baikonur Cosmodrome, Kazakhstan</td>\n",
       "      <td>1962-04-26</td>\n",
       "      <td>12:00:00</td>\n",
       "      <td>Cosmos-3M (11K65M)</td>\n",
       "      <td>DSP</td>\n",
       "      <td>Retired</td>\n",
       "      <td>450</td>\n",
       "      <td>Success</td>\n",
       "    </tr>\n",
       "    <tr>\n",
       "      <th>freq</th>\n",
       "      <td>1777</td>\n",
       "      <td>251</td>\n",
       "      <td>4</td>\n",
       "      <td>52</td>\n",
       "      <td>446</td>\n",
       "      <td>8</td>\n",
       "      <td>3620</td>\n",
       "      <td>136</td>\n",
       "      <td>4162</td>\n",
       "    </tr>\n",
       "  </tbody>\n",
       "</table>\n",
       "</div>"
      ],
      "text/plain": [
       "          Company                                    Location        Date  \\\n",
       "count        4630                                        4630        4630   \n",
       "unique         62                                         158        4180   \n",
       "top     RVSN USSR  Site 31/6, Baikonur Cosmodrome, Kazakhstan  1962-04-26   \n",
       "freq         1777                                         251           4   \n",
       "\n",
       "            Time              Rocket Mission RocketStatus Price MissionStatus  \n",
       "count       4503                4630    4630         4630  1265          4630  \n",
       "unique      1300                 370    4556            2    65             4  \n",
       "top     12:00:00  Cosmos-3M (11K65M)     DSP      Retired   450       Success  \n",
       "freq          52                 446       8         3620   136          4162  "
      ]
     },
     "execution_count": 24,
     "metadata": {},
     "output_type": "execute_result"
    }
   ],
   "source": [
    "dados_missoes.describe()"
   ]
  }
 ],
 "metadata": {
  "kernelspec": {
   "display_name": "Python 3.10.7 64-bit",
   "language": "python",
   "name": "python3"
  },
  "language_info": {
   "codemirror_mode": {
    "name": "ipython",
    "version": 3
   },
   "file_extension": ".py",
   "mimetype": "text/x-python",
   "name": "python",
   "nbconvert_exporter": "python",
   "pygments_lexer": "ipython3",
   "version": "3.10.7"
  },
  "orig_nbformat": 4,
  "vscode": {
   "interpreter": {
    "hash": "650612b72461e7c5146c3d42cdb3c38eddfaae87360e368e7b4bd3d042dfdcd3"
   }
  }
 },
 "nbformat": 4,
 "nbformat_minor": 2
}
